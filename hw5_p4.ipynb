{
 "cells": [
  {
   "cell_type": "markdown",
   "metadata": {},
   "source": [
    "## Homework 5 - Alessandro Leggio Yepez\n",
    "Sankey Plot"
   ]
  },
  {
   "cell_type": "markdown",
   "metadata": {},
   "source": [
    "1. Look at the [chapter on interactive graphics](https://smart-stats.github.io/ds4bio_book/book/_build/html/interactive.html) and, specifically, the code to display a subject's MRICloud data as a sunburst plot. Do the following. Display this subject's data as a [Sankey diagram](https://plotly.com/python/sankey-diagram/). Display as many levels as you can (at least 3) for Type = 1, starting from the intracranial volume. Put this in a file called hw4.ipynb."
   ]
  },
  {
   "cell_type": "code",
   "execution_count": 23,
   "metadata": {},
   "outputs": [
    {
     "data": {
      "text/html": [
       "<div>\n",
       "<style scoped>\n",
       "    .dataframe tbody tr th:only-of-type {\n",
       "        vertical-align: middle;\n",
       "    }\n",
       "\n",
       "    .dataframe tbody tr th {\n",
       "        vertical-align: top;\n",
       "    }\n",
       "\n",
       "    .dataframe thead th {\n",
       "        text-align: right;\n",
       "    }\n",
       "</style>\n",
       "<table border=\"1\" class=\"dataframe\">\n",
       "  <thead>\n",
       "    <tr style=\"text-align: right;\">\n",
       "      <th></th>\n",
       "      <th>roi</th>\n",
       "      <th>volume</th>\n",
       "      <th>level4</th>\n",
       "      <th>level3</th>\n",
       "      <th>level2</th>\n",
       "      <th>level1</th>\n",
       "      <th>icv</th>\n",
       "      <th>comp</th>\n",
       "    </tr>\n",
       "  </thead>\n",
       "  <tbody>\n",
       "    <tr>\n",
       "      <th>0</th>\n",
       "      <td>SFG_L</td>\n",
       "      <td>12926</td>\n",
       "      <td>SFG_L</td>\n",
       "      <td>Frontal_L</td>\n",
       "      <td>CerebralCortex_L</td>\n",
       "      <td>Telencephalon_L</td>\n",
       "      <td>ICV</td>\n",
       "      <td>0.009350</td>\n",
       "    </tr>\n",
       "    <tr>\n",
       "      <th>1</th>\n",
       "      <td>SFG_R</td>\n",
       "      <td>10050</td>\n",
       "      <td>SFG_R</td>\n",
       "      <td>Frontal_R</td>\n",
       "      <td>CerebralCortex_R</td>\n",
       "      <td>Telencephalon_R</td>\n",
       "      <td>ICV</td>\n",
       "      <td>0.007270</td>\n",
       "    </tr>\n",
       "    <tr>\n",
       "      <th>2</th>\n",
       "      <td>SFG_PFC_L</td>\n",
       "      <td>12783</td>\n",
       "      <td>SFG_L</td>\n",
       "      <td>Frontal_L</td>\n",
       "      <td>CerebralCortex_L</td>\n",
       "      <td>Telencephalon_L</td>\n",
       "      <td>ICV</td>\n",
       "      <td>0.009247</td>\n",
       "    </tr>\n",
       "    <tr>\n",
       "      <th>3</th>\n",
       "      <td>SFG_PFC_R</td>\n",
       "      <td>11507</td>\n",
       "      <td>SFG_R</td>\n",
       "      <td>Frontal_R</td>\n",
       "      <td>CerebralCortex_R</td>\n",
       "      <td>Telencephalon_R</td>\n",
       "      <td>ICV</td>\n",
       "      <td>0.008324</td>\n",
       "    </tr>\n",
       "    <tr>\n",
       "      <th>4</th>\n",
       "      <td>SFG_pole_L</td>\n",
       "      <td>3078</td>\n",
       "      <td>SFG_L</td>\n",
       "      <td>Frontal_L</td>\n",
       "      <td>CerebralCortex_L</td>\n",
       "      <td>Telencephalon_L</td>\n",
       "      <td>ICV</td>\n",
       "      <td>0.002227</td>\n",
       "    </tr>\n",
       "    <tr>\n",
       "      <th>...</th>\n",
       "      <td>...</td>\n",
       "      <td>...</td>\n",
       "      <td>...</td>\n",
       "      <td>...</td>\n",
       "      <td>...</td>\n",
       "      <td>...</td>\n",
       "      <td>...</td>\n",
       "      <td>...</td>\n",
       "    </tr>\n",
       "    <tr>\n",
       "      <th>275</th>\n",
       "      <td>Chroid_LVetc_L</td>\n",
       "      <td>444</td>\n",
       "      <td>AnteriorLateralVentricle_L</td>\n",
       "      <td>LateralVentricle_L</td>\n",
       "      <td>Ventricle</td>\n",
       "      <td>CSF</td>\n",
       "      <td>ICV</td>\n",
       "      <td>0.000321</td>\n",
       "    </tr>\n",
       "    <tr>\n",
       "      <th>276</th>\n",
       "      <td>Chroid_LVetc_R</td>\n",
       "      <td>371</td>\n",
       "      <td>AnteriorLateralVentricle_R</td>\n",
       "      <td>LateralVentricle_R</td>\n",
       "      <td>Ventricle</td>\n",
       "      <td>CSF</td>\n",
       "      <td>ICV</td>\n",
       "      <td>0.000268</td>\n",
       "    </tr>\n",
       "    <tr>\n",
       "      <th>277</th>\n",
       "      <td>IV_ventricle</td>\n",
       "      <td>2700</td>\n",
       "      <td>IV_ventricle</td>\n",
       "      <td>IV_ventricle</td>\n",
       "      <td>Ventricle</td>\n",
       "      <td>CSF</td>\n",
       "      <td>ICV</td>\n",
       "      <td>0.001953</td>\n",
       "    </tr>\n",
       "    <tr>\n",
       "      <th>278</th>\n",
       "      <td>ECCL_L</td>\n",
       "      <td>292</td>\n",
       "      <td>inf_DPWM_L</td>\n",
       "      <td>InferiorWM_L</td>\n",
       "      <td>WhiteMatter_L</td>\n",
       "      <td>Telencephalon_L</td>\n",
       "      <td>ICV</td>\n",
       "      <td>0.000211</td>\n",
       "    </tr>\n",
       "    <tr>\n",
       "      <th>279</th>\n",
       "      <td>ECCL_R</td>\n",
       "      <td>292</td>\n",
       "      <td>inf_DPWM_R</td>\n",
       "      <td>InferiorWM_R</td>\n",
       "      <td>WhiteMatter_R</td>\n",
       "      <td>Telencephalon_R</td>\n",
       "      <td>ICV</td>\n",
       "      <td>0.000211</td>\n",
       "    </tr>\n",
       "  </tbody>\n",
       "</table>\n",
       "<p>280 rows × 8 columns</p>\n",
       "</div>"
      ],
      "text/plain": [
       "                roi  volume                      level4              level3  \\\n",
       "0             SFG_L   12926                       SFG_L           Frontal_L   \n",
       "1             SFG_R   10050                       SFG_R           Frontal_R   \n",
       "2         SFG_PFC_L   12783                       SFG_L           Frontal_L   \n",
       "3         SFG_PFC_R   11507                       SFG_R           Frontal_R   \n",
       "4        SFG_pole_L    3078                       SFG_L           Frontal_L   \n",
       "..              ...     ...                         ...                 ...   \n",
       "275  Chroid_LVetc_L     444  AnteriorLateralVentricle_L  LateralVentricle_L   \n",
       "276  Chroid_LVetc_R     371  AnteriorLateralVentricle_R  LateralVentricle_R   \n",
       "277    IV_ventricle    2700                IV_ventricle        IV_ventricle   \n",
       "278          ECCL_L     292                  inf_DPWM_L        InferiorWM_L   \n",
       "279          ECCL_R     292                  inf_DPWM_R        InferiorWM_R   \n",
       "\n",
       "               level2           level1  icv      comp  \n",
       "0    CerebralCortex_L  Telencephalon_L  ICV  0.009350  \n",
       "1    CerebralCortex_R  Telencephalon_R  ICV  0.007270  \n",
       "2    CerebralCortex_L  Telencephalon_L  ICV  0.009247  \n",
       "3    CerebralCortex_R  Telencephalon_R  ICV  0.008324  \n",
       "4    CerebralCortex_L  Telencephalon_L  ICV  0.002227  \n",
       "..                ...              ...  ...       ...  \n",
       "275        Ventricle               CSF  ICV  0.000321  \n",
       "276        Ventricle               CSF  ICV  0.000268  \n",
       "277         Ventricle              CSF  ICV  0.001953  \n",
       "278     WhiteMatter_L  Telencephalon_L  ICV  0.000211  \n",
       "279     WhiteMatter_R  Telencephalon_R  ICV  0.000211  \n",
       "\n",
       "[280 rows x 8 columns]"
      ]
     },
     "execution_count": 23,
     "metadata": {},
     "output_type": "execute_result"
    }
   ],
   "source": [
    "#import libraries\n",
    "import pandas as pd\n",
    "import plotly.express as px\n",
    "import numpy as np\n",
    "\n",
    "## load in the hierarchy information\n",
    "url = \"https://raw.githubusercontent.com/bcaffo/MRIcloudT1volumetrics/master/inst/extdata/multilevel_lookup_table.txt\"\n",
    "data = pd.read_csv(url, sep = \"\\t\").drop(['Level5'], axis = 1) #read in csv\n",
    "#rename columns\n",
    "data = data.rename(columns = { \n",
    "    \"modify\"   : \"roi\", \n",
    "    \"modify.1\" : \"level4\",\n",
    "    \"modify.2\" : \"level3\", \n",
    "    \"modify.3\" : \"level2\",\n",
    "    \"modify.4\" : \"level1\"})\n",
    "data = data[['roi', 'level4', 'level3', 'level2', 'level1']] #set column order\n",
    "\n",
    "## Now load in the subject data\n",
    "id = 127\n",
    "subject = pd.read_csv(\"https://raw.githubusercontent.com/smart-stats/ds4bio_book/main/book/assetts/kirby21AllLevels.csv\")\n",
    "subject = subject.loc[(subject.type == 1) & (subject.level == 5) & (subject.id == id)]\n",
    "subject = subject[['roi', 'volume']]\n",
    "## Merge the subject data with the heirarchy\n",
    "subject = pd.merge(subject, data, on = \"roi\")\n",
    "subject = subject.assign(icv = \"ICV\")\n",
    "subject = subject.assign(comp = subject.volume / np.sum(subject.volume))\n",
    "subject"
   ]
  },
  {
   "cell_type": "code",
   "execution_count": 42,
   "metadata": {},
   "outputs": [
    {
     "data": {
      "application/vnd.plotly.v1+json": {
       "config": {
        "plotlyServerURL": "https://plot.ly"
       },
       "data": [
        {
         "link": {
          "source": [
           "ICV",
           "ICV",
           "ICV",
           "ICV",
           "ICV",
           "ICV",
           "ICV",
           "ICV",
           "ICV",
           "ICV",
           "ICV",
           "ICV",
           "ICV",
           "ICV",
           "ICV",
           "ICV",
           "ICV",
           "ICV",
           "ICV",
           "ICV",
           "ICV",
           "ICV",
           "ICV",
           "ICV",
           "ICV",
           "ICV",
           "ICV",
           "ICV",
           "ICV",
           "ICV",
           "ICV",
           "ICV",
           "ICV",
           "ICV",
           "ICV",
           "ICV",
           "ICV",
           "ICV",
           "ICV",
           "ICV",
           "ICV",
           "ICV",
           "ICV",
           "ICV",
           "ICV",
           "ICV",
           "ICV",
           "ICV",
           "ICV",
           "ICV",
           "ICV",
           "ICV",
           "ICV",
           "ICV",
           "ICV",
           "ICV",
           "ICV",
           "ICV",
           "ICV",
           "ICV",
           "ICV",
           "ICV",
           "ICV",
           "ICV",
           "ICV",
           "ICV",
           "ICV",
           "ICV",
           "ICV",
           "ICV",
           "ICV",
           "ICV",
           "ICV",
           "ICV",
           "ICV",
           "ICV",
           "ICV",
           "ICV",
           "ICV",
           "ICV",
           "ICV",
           "ICV",
           "ICV",
           "ICV",
           "ICV",
           "ICV",
           "ICV",
           "ICV",
           "ICV",
           "ICV",
           "ICV",
           "ICV",
           "ICV",
           "ICV",
           "ICV",
           "ICV",
           "ICV",
           "ICV",
           "ICV",
           "ICV",
           "ICV",
           "ICV",
           "ICV",
           "ICV",
           "ICV",
           "ICV",
           "ICV",
           "ICV",
           "ICV",
           "ICV",
           "ICV",
           "ICV",
           "ICV",
           "ICV",
           "ICV",
           "ICV",
           "ICV",
           "ICV",
           "ICV",
           "ICV",
           "ICV",
           "ICV",
           "ICV",
           "ICV",
           "ICV",
           "ICV",
           "ICV",
           "ICV",
           "ICV",
           "ICV",
           "ICV",
           "ICV",
           "ICV",
           "ICV",
           "ICV",
           "ICV",
           "ICV",
           "ICV",
           "ICV",
           "ICV",
           "ICV",
           "ICV",
           "ICV",
           "ICV",
           "ICV",
           "ICV",
           "ICV",
           "ICV",
           "ICV",
           "ICV",
           "ICV",
           "ICV",
           "ICV",
           "ICV",
           "ICV",
           "ICV",
           "ICV",
           "ICV",
           "ICV",
           "ICV",
           "ICV",
           "ICV",
           "ICV",
           "ICV",
           "ICV",
           "ICV",
           "ICV",
           "ICV",
           "ICV",
           "ICV",
           "ICV",
           "ICV",
           "ICV",
           "ICV",
           "ICV",
           "ICV",
           "ICV",
           "ICV",
           "ICV",
           "ICV",
           "ICV",
           "ICV",
           "ICV",
           "ICV",
           "ICV",
           "ICV",
           "ICV",
           "ICV",
           "ICV",
           "ICV",
           "ICV",
           "ICV",
           "ICV",
           "ICV",
           "ICV",
           "ICV",
           "ICV",
           "ICV",
           "ICV",
           "ICV",
           "ICV",
           "ICV",
           "ICV",
           "ICV",
           "ICV",
           "ICV",
           "ICV",
           "ICV",
           "ICV",
           "ICV",
           "ICV",
           "ICV",
           "ICV",
           "ICV",
           "ICV",
           "ICV",
           "ICV",
           "ICV",
           "ICV",
           "ICV",
           "ICV",
           "ICV",
           "ICV",
           "ICV",
           "ICV",
           "ICV",
           "ICV",
           "ICV",
           "ICV",
           "ICV",
           "ICV",
           "ICV",
           "ICV",
           "ICV",
           "ICV",
           "ICV",
           "ICV",
           "ICV",
           "ICV",
           "ICV",
           "ICV",
           "ICV",
           "ICV",
           "ICV",
           "ICV",
           "ICV",
           "ICV",
           "ICV",
           "ICV",
           "ICV",
           "ICV",
           "ICV",
           "ICV",
           "ICV",
           "ICV",
           "ICV",
           "ICV",
           "ICV",
           "ICV",
           "ICV",
           "ICV",
           "ICV",
           "ICV",
           "ICV",
           "ICV",
           "ICV",
           "ICV",
           "ICV",
           "ICV",
           "ICV",
           "ICV",
           "ICV",
           "ICV",
           "ICV",
           "ICV",
           "ICV",
           "ICV",
           "ICV",
           "ICV",
           "ICV"
          ],
          "target": [
           "Telencephalon_L",
           "Telencephalon_R",
           "Telencephalon_L",
           "Telencephalon_R",
           "Telencephalon_L",
           "Telencephalon_R",
           "Telencephalon_L",
           "Telencephalon_R",
           "Telencephalon_L",
           "Telencephalon_R",
           "Telencephalon_L",
           "Telencephalon_R",
           "Telencephalon_L",
           "Telencephalon_R",
           "Telencephalon_L",
           "Telencephalon_R",
           "Telencephalon_L",
           "Telencephalon_R",
           "Telencephalon_L",
           "Telencephalon_R",
           "Telencephalon_L",
           "Telencephalon_R",
           "Telencephalon_L",
           "Telencephalon_R",
           "Telencephalon_L",
           "Telencephalon_R",
           "Telencephalon_L",
           "Telencephalon_R",
           "Telencephalon_L",
           "Telencephalon_R",
           "Telencephalon_L",
           "Telencephalon_R",
           "Telencephalon_L",
           "Telencephalon_R",
           "Telencephalon_L",
           "Telencephalon_R",
           "Telencephalon_L",
           "Telencephalon_R",
           "Telencephalon_L",
           "Telencephalon_R",
           "Telencephalon_L",
           "Telencephalon_R",
           "Telencephalon_L",
           "Telencephalon_R",
           "Telencephalon_L",
           "Telencephalon_R",
           "Telencephalon_L",
           "Telencephalon_R",
           "Telencephalon_L",
           "Telencephalon_R",
           "Telencephalon_L",
           "Telencephalon_R",
           "Telencephalon_L",
           "Telencephalon_R",
           "Telencephalon_L",
           "Telencephalon_R",
           "Telencephalon_L",
           "Telencephalon_R",
           "Telencephalon_L",
           "Telencephalon_R",
           "Telencephalon_L",
           "Telencephalon_R",
           "Telencephalon_L",
           "Telencephalon_R",
           "Telencephalon_L",
           "Telencephalon_R",
           "Telencephalon_L",
           "Telencephalon_R",
           "Telencephalon_L",
           "Telencephalon_R",
           "Telencephalon_L",
           "Telencephalon_R",
           "Telencephalon_L",
           "Telencephalon_R",
           "Telencephalon_L",
           "Telencephalon_R",
           "Telencephalon_L",
           "Telencephalon_R",
           "Telencephalon_L",
           "Telencephalon_R",
           "Telencephalon_L",
           "Telencephalon_R",
           "Diencephalon_L",
           "Diencephalon_R",
           "Diencephalon_L",
           "Diencephalon_R",
           "Diencephalon_L",
           "Diencephalon_L",
           "Diencephalon_L",
           "Diencephalon_L",
           "Diencephalon_R",
           "Diencephalon_R",
           "Diencephalon_R",
           "Diencephalon_R",
           "Telencephalon_L",
           "Telencephalon_R",
           "Mesencephalon",
           "Mesencephalon",
           "Mesencephalon",
           "Mesencephalon",
           "Metencephalon",
           "Metencephalon",
           "Mesencephalon",
           "Mesencephalon",
           "Mesencephalon",
           "Mesencephalon",
           "Metencephalon",
           "Metencephalon",
           "Metencephalon",
           "Metencephalon",
           "Metencephalon",
           "Metencephalon",
           "Metencephalon",
           "Metencephalon",
           "Myelencephalon",
           "Myelencephalon",
           "Metencephalon",
           "Metencephalon",
           "Metencephalon",
           "Metencephalon",
           "Myelencephalon",
           "Myelencephalon",
           "Telencephalon_L",
           "Telencephalon_R",
           "Telencephalon_L",
           "Telencephalon_R",
           "Telencephalon_L",
           "Telencephalon_R",
           "Telencephalon_L",
           "Telencephalon_R",
           "Telencephalon_L",
           "Telencephalon_R",
           "Telencephalon_L",
           "Telencephalon_R",
           "Telencephalon_L",
           "Telencephalon_R",
           "Telencephalon_L",
           "Telencephalon_R",
           "Telencephalon_L",
           "Telencephalon_R",
           "Telencephalon_L",
           "Telencephalon_R",
           "Telencephalon_L",
           "Telencephalon_R",
           "Telencephalon_L",
           "Telencephalon_R",
           "Telencephalon_L",
           "Telencephalon_R",
           "Telencephalon_L",
           "Telencephalon_R",
           "Telencephalon_L",
           "Telencephalon_R",
           "Telencephalon_L",
           "Telencephalon_R",
           "Telencephalon_L",
           "Telencephalon_R",
           "Telencephalon_L",
           "Telencephalon_R",
           "Telencephalon_L",
           "Telencephalon_R",
           "Telencephalon_L",
           "Telencephalon_R",
           "Diencephalon_L",
           "Diencephalon_R",
           "Diencephalon_R",
           "Diencephalon_L",
           "CSF",
           "CSF",
           "CSF",
           "CSF",
           "CSF",
           "CSF",
           "CSF",
           "CSF",
           "CSF",
           "CSF",
           "CSF",
           "Telencephalon_L",
           "Telencephalon_R",
           "Telencephalon_L",
           "Telencephalon_R",
           "Telencephalon_L",
           "Telencephalon_R",
           "Telencephalon_L",
           "Telencephalon_R",
           "Telencephalon_L",
           "Telencephalon_R",
           "Telencephalon_L",
           "Telencephalon_R",
           "Telencephalon_L",
           "Telencephalon_R",
           "Telencephalon_L",
           "Telencephalon_R",
           "Telencephalon_L",
           "Telencephalon_R",
           "Telencephalon_L",
           "Telencephalon_R",
           "Telencephalon_L",
           "Telencephalon_R",
           "Telencephalon_L",
           "Telencephalon_R",
           "Telencephalon_L",
           "Telencephalon_R",
           "Telencephalon_L",
           "Telencephalon_R",
           "Telencephalon_L",
           "Telencephalon_R",
           "Telencephalon_L",
           "Telencephalon_R",
           "Telencephalon_L",
           "Telencephalon_R",
           "Telencephalon_L",
           "Telencephalon_R",
           "Telencephalon_L",
           "Telencephalon_R",
           "Telencephalon_L",
           "Telencephalon_R",
           "Telencephalon_L",
           "Telencephalon_R",
           "Telencephalon_L",
           "Telencephalon_R",
           "Telencephalon_L",
           "Telencephalon_R",
           "Telencephalon_L",
           "Telencephalon_R",
           "Telencephalon_L",
           "Telencephalon_R",
           "Telencephalon_L",
           "Telencephalon_R",
           "Telencephalon_L",
           "Telencephalon_R",
           "Telencephalon_L",
           "Telencephalon_R",
           "Telencephalon_L",
           "Telencephalon_R",
           "Telencephalon_L",
           "Telencephalon_R",
           "Telencephalon_L",
           "Telencephalon_R",
           "Telencephalon_L",
           "Telencephalon_R",
           "Telencephalon_L",
           "Telencephalon_R",
           "Telencephalon_L",
           "Telencephalon_R",
           "Telencephalon_L",
           "Telencephalon_R",
           "Metencephalon",
           "Metencephalon",
           "Metencephalon",
           "Metencephalon",
           "Metencephalon",
           "Metencephalon",
           "CSF",
           "CSF",
           "CSF",
           "CSF",
           "CSF",
           "CSF",
           "CSF",
           "CSF",
           "CSF",
           "CSF",
           "CSF",
           "CSF",
           "CSF",
           "CSF",
           "CSF",
           "CSF",
           "CSF",
           "CSF",
           "Telencephalon_L",
           "Telencephalon_L",
           "Telencephalon_R",
           "Telencephalon_R",
           "CSF",
           "CSF",
           "CSF",
           "Telencephalon_L",
           "Telencephalon_R"
          ],
          "value": [
           0.00935028334411155,
           0.007269870618004106,
           0.009246841403974774,
           0.008323821015062014,
           0.0022265335086782724,
           0.0035257064071793046,
           0.007188853154400478,
           0.008066301220036197,
           0.011790934435170838,
           0.011898716596572094,
           0.003059132621247698,
           0.0029542439406894296,
           0.0032920578291081278,
           0.0027979959751681474,
           0.0031112152764214587,
           0.0026453648607005983,
           0.003399839990509383,
           0.0032479322462525806,
           0.003482304194534504,
           0.0034316682797822366,
           0.004560125808547053,
           0.004491405638526119,
           0.007738614514567953,
           0.008085832215726358,
           0.010666817127670501,
           0.012675616202914025,
           0.005471572274087866,
           0.00501150882005298,
           0.006239791437900838,
           0.006869846891461194,
           0.005374640665847812,
           0.009823367461939876,
           0.005323281380884798,
           0.0047554357654486555,
           0.009372707820644697,
           0.008140084981532358,
           0.003518472705071838,
           0.0039090926188750435,
           0.011746085482104544,
           0.011798891507489051,
           0.0019502060881730417,
           0.002162876930132565,
           0.009081189625713786,
           0.00892349491977101,
           0.0009042127634333465,
           0.0009027660230118531,
           0.0006727342959944098,
           0.000753028389387291,
           0.010150330797197375,
           0.009775625028030597,
           0.0018576147011974671,
           0.0016406036379734638,
           0.011785147473484865,
           0.010245815665015937,
           0.0031032582041032454,
           0.0032370816930913805,
           0.004367709332488437,
           0.004947128871296526,
           0.005836150860304192,
           0.00527264546613253,
           0.0019010169138422676,
           0.0026316208266964117,
           0.00034070736926168497,
           0.000432575386026513,
           0.0011176069756036163,
           0.0011704130009881238,
           0.00888443292839069,
           0.009074679293817065,
           0.0041362308650495,
           0.005872319370841526,
           0.00523792369601669,
           0.005122907832507968,
           0.0014344431279106609,
           0.0016991966250439448,
           0.002837781336759215,
           0.0027017877371388393,
           0.0025824316523656377,
           0.002693107294609879,
           0.0031719783741241793,
           0.0031828289272853795,
           0.0009895704483014545,
           0.0010691411714835888,
           0.004587613876555427,
           0.0046093149828778275,
           0.00048104119014654036,
           0.0005504847303782214,
           0.00029368830556315096,
           0.00029368830556315096,
           0.0012492603539595115,
           0.0012492603539595115,
           0.00029658178640613766,
           0.00029658178640613766,
           0.0010633542097976156,
           0.0010633542097976156,
           0.0005150395900516342,
           0.0005656755048039016,
           0.000253179573761337,
           0.0003110491906210712,
           0.0002799442715589641,
           0.00018518277395114936,
           0.042320050809523606,
           0.04299350847572876,
           0.0013997213577948203,
           0.0014568676044438079,
           0.0016442204890271973,
           0.0018995701734207742,
           0.0011349678606615366,
           0.0010322492907355084,
           0.0006900951810523301,
           0.0007523050191765442,
           0.0020956035005331238,
           0.0021679405216077914,
           0.0006973288831597968,
           0.000616311419556169,
           0.000645246227986036,
           0.0006698408151514231,
           0.0006090777174487022,
           0.0007747294957096913,
           0.00019313984626936282,
           0.0004687438965638468,
           0.0010930123884382293,
           0.0011906673668890307,
           0.009114464655408133,
           0.009606356398715873,
           0.009737286406861022,
           0.010380362524214818,
           0.0031828289272853795,
           0.0027285524349364666,
           0.001869188624569414,
           0.001987821339131869,
           0.00298028526827631,
           0.0032457621356203406,
           0.003925730133722217,
           0.004291032090149289,
           0.00028356112261269744,
           0.00028356112261269744,
           0.0016955797739902113,
           0.0018286798927676,
           0.002451501644220489,
           0.0023849515848317947,
           0.002216406325727819,
           0.0022424476533146995,
           0.002391461916728515,
           0.0022909134574347267,
           0.002267765610690833,
           0.002577368060890411,
           0.0013100234516622324,
           0.001247813613538018,
           0.001030802550314015,
           0.0010402063630537218,
           0.0006532033003042496,
           0.0007204767299036905,
           0.0013078533410299923,
           0.001349085443042553,
           0.005116397500611248,
           0.00410584931619814,
           0.002596899056580571,
           0.002924585762048816,
           0.00026258338650104383,
           0.0001996501781660829,
           0.005055634402908527,
           0.005629266980030642,
           0.0003030921183028577,
           0.00040725742865037925,
           0.00007523050191765443,
           0.00009042127634333466,
           0.0048870891438045514,
           0.006019163523623101,
           0.0032978447907941015,
           0.00030236874809211106,
           0.0006032907557627288,
           0.0042570336902441955,
           0.0057573035073328034,
           0.0029658178640613766,
           0.00008680442528960127,
           0.0006575435215687295,
           0.0017491091695854655,
           0.0006047374961842221,
           0.0006271619727173691,
           0.0005678456154361416,
           0.0004701906369853402,
           0.006092947285119262,
           0.00552727178031536,
           0.006455355760703347,
           0.006343956748248359,
           0.0003703655479022987,
           0.0005859298707048085,
           0.005082399100706154,
           0.005331961823413758,
           0.0035531944751876782,
           0.0044545137577780385,
           0.00160877534870061,
           0.0027632742050523068,
           0.0024732027505428894,
           0.001796851603494746,
           0.003358607888496822,
           0.0026591088947047854,
           0.0018286798927676,
           0.001440953459807381,
           0.0016189025316510636,
           0.0014995464468778618,
           0.002058711619785043,
           0.002536859329088597,
           0.006106691319123449,
           0.006427867692694974,
           0.008726738222447914,
           0.010623414915025702,
           0.005392724921116479,
           0.00528349601929373,
           0.0028464617792881746,
           0.003458432977579864,
           0.002630174086274918,
           0.003688464704597307,
           0.0021592600790788312,
           0.0018344668544535733,
           0.006365657854570759,
           0.005670499082043203,
           0.0009353176824954537,
           0.0009280839803879868,
           0.00682282782776266,
           0.007738614514567953,
           0.0011689662605666304,
           0.0013093000814514858,
           0.004513106744848519,
           0.004018321520697792,
           0.003791183274523335,
           0.004165889043690114,
           0.002310444453124887,
           0.002722765473250493,
           0.008814989388159009,
           0.008758566511720767,
           0.0013801903621046602,
           0.002447884793166756,
           0.004372772923963664,
           0.003486644415798984,
           0.006130562536078089,
           0.004824879305680337,
           0.00018445940374040267,
           0.0000014467404214933544,
           0.00008680442528960127,
           0.00007667724233914778,
           0.00017216211015770916,
           0.00010344194013677484,
           0.0020854763175826704,
           0.0012962794176580455,
           0.0025723044694151843,
           0.0028500786303419083,
           0.0073458244901325066,
           0.00662462439001807,
           0.0020760725048429634,
           0.0019118674670034678,
           0.00039206665422469904,
           0.00041666124139008606,
           0.010853446642043145,
           0.008124894207106678,
           0.001561756285002076,
           0.001265897868806685,
           0.00114943526487647,
           0.0008499599976273457,
           0.0011559455967731901,
           0.001057567248111642,
           0.0004629569348778734,
           0.00020833062069504303,
           0.006321532271715212,
           0.007036945410143676,
           0.0008485132572058524,
           0.001026462329049535,
           0.0013989979875840737,
           0.001485802412873675,
           0.0008239186700404654,
           0.0006582668917794762,
           0.00026258338650104383,
           0.00003616851053733386,
           0.0002495627227076036,
           0.000032551659483600474,
           0.0003211763735715247,
           0.00026837034818701723,
           0.0019530995690160283,
           0.00021122410153802973,
           0.00021122410153802973
          ]
         },
         "node": {
          "color": "blue",
          "label": [
           "ICV",
           "ICV",
           "ICV",
           "ICV",
           "ICV",
           "ICV",
           "ICV",
           "ICV",
           "ICV",
           "ICV",
           "ICV",
           "ICV",
           "ICV",
           "ICV",
           "ICV",
           "ICV",
           "ICV",
           "ICV",
           "ICV",
           "ICV",
           "ICV",
           "ICV",
           "ICV",
           "ICV",
           "ICV",
           "ICV",
           "ICV",
           "ICV",
           "ICV",
           "ICV",
           "ICV",
           "ICV",
           "ICV",
           "ICV",
           "ICV",
           "ICV",
           "ICV",
           "ICV",
           "ICV",
           "ICV",
           "ICV",
           "ICV",
           "ICV",
           "ICV",
           "ICV",
           "ICV",
           "ICV",
           "ICV",
           "ICV",
           "ICV",
           "ICV",
           "ICV",
           "ICV",
           "ICV",
           "ICV",
           "ICV",
           "ICV",
           "ICV",
           "ICV",
           "ICV",
           "ICV",
           "ICV",
           "ICV",
           "ICV",
           "ICV",
           "ICV",
           "ICV",
           "ICV",
           "ICV",
           "ICV",
           "ICV",
           "ICV",
           "ICV",
           "ICV",
           "ICV",
           "ICV",
           "ICV",
           "ICV",
           "ICV",
           "ICV",
           "ICV",
           "ICV",
           "ICV",
           "ICV",
           "ICV",
           "ICV",
           "ICV",
           "ICV",
           "ICV",
           "ICV",
           "ICV",
           "ICV",
           "ICV",
           "ICV",
           "ICV",
           "ICV",
           "ICV",
           "ICV",
           "ICV",
           "ICV",
           "ICV",
           "ICV",
           "ICV",
           "ICV",
           "ICV",
           "ICV",
           "ICV",
           "ICV",
           "ICV",
           "ICV",
           "ICV",
           "ICV",
           "ICV",
           "ICV",
           "ICV",
           "ICV",
           "ICV",
           "ICV",
           "ICV",
           "ICV",
           "ICV",
           "ICV",
           "ICV",
           "ICV",
           "ICV",
           "ICV",
           "ICV",
           "ICV",
           "ICV",
           "ICV",
           "ICV",
           "ICV",
           "ICV",
           "ICV",
           "ICV",
           "ICV",
           "ICV",
           "ICV",
           "ICV",
           "ICV",
           "ICV",
           "ICV",
           "ICV",
           "ICV",
           "ICV",
           "ICV",
           "ICV",
           "ICV",
           "ICV",
           "ICV",
           "ICV",
           "ICV",
           "ICV",
           "ICV",
           "ICV",
           "ICV",
           "ICV",
           "ICV",
           "ICV",
           "ICV",
           "ICV",
           "ICV",
           "ICV",
           "ICV",
           "ICV",
           "ICV",
           "ICV",
           "ICV",
           "ICV",
           "ICV",
           "ICV",
           "ICV",
           "ICV",
           "ICV",
           "ICV",
           "ICV",
           "ICV",
           "ICV",
           "ICV",
           "ICV",
           "ICV",
           "ICV",
           "ICV",
           "ICV",
           "ICV",
           "ICV",
           "ICV",
           "ICV",
           "ICV",
           "ICV",
           "ICV",
           "ICV",
           "ICV",
           "ICV",
           "ICV",
           "ICV",
           "ICV",
           "ICV",
           "ICV",
           "ICV",
           "ICV",
           "ICV",
           "ICV",
           "ICV",
           "ICV",
           "ICV",
           "ICV",
           "ICV",
           "ICV",
           "ICV",
           "ICV",
           "ICV",
           "ICV",
           "ICV",
           "ICV",
           "ICV",
           "ICV",
           "ICV",
           "ICV",
           "ICV",
           "ICV",
           "ICV",
           "ICV",
           "ICV",
           "ICV",
           "ICV",
           "ICV",
           "ICV",
           "ICV",
           "ICV",
           "ICV",
           "ICV",
           "ICV",
           "ICV",
           "ICV",
           "ICV",
           "ICV",
           "ICV",
           "ICV",
           "ICV",
           "ICV",
           "ICV",
           "ICV",
           "ICV",
           "ICV",
           "ICV",
           "ICV",
           "ICV",
           "ICV",
           "ICV",
           "ICV",
           "ICV",
           "ICV",
           "ICV",
           "ICV",
           "ICV",
           "ICV",
           "ICV",
           "ICV",
           "ICV",
           "ICV",
           "ICV",
           "ICV",
           "ICV",
           "ICV",
           "ICV",
           "ICV",
           "ICV",
           "ICV",
           "ICV",
           "ICV",
           "ICV",
           "ICV",
           "ICV",
           "ICV",
           "ICV",
           "ICV",
           "ICV",
           "ICV",
           "ICV"
          ],
          "line": {
           "color": "black",
           "width": 0.5
          },
          "pad": 15,
          "thickness": 20
         },
         "type": "sankey"
        }
       ],
       "layout": {
        "font": {
         "size": 10
        },
        "template": {
         "data": {
          "bar": [
           {
            "error_x": {
             "color": "#2a3f5f"
            },
            "error_y": {
             "color": "#2a3f5f"
            },
            "marker": {
             "line": {
              "color": "#E5ECF6",
              "width": 0.5
             },
             "pattern": {
              "fillmode": "overlay",
              "size": 10,
              "solidity": 0.2
             }
            },
            "type": "bar"
           }
          ],
          "barpolar": [
           {
            "marker": {
             "line": {
              "color": "#E5ECF6",
              "width": 0.5
             },
             "pattern": {
              "fillmode": "overlay",
              "size": 10,
              "solidity": 0.2
             }
            },
            "type": "barpolar"
           }
          ],
          "carpet": [
           {
            "aaxis": {
             "endlinecolor": "#2a3f5f",
             "gridcolor": "white",
             "linecolor": "white",
             "minorgridcolor": "white",
             "startlinecolor": "#2a3f5f"
            },
            "baxis": {
             "endlinecolor": "#2a3f5f",
             "gridcolor": "white",
             "linecolor": "white",
             "minorgridcolor": "white",
             "startlinecolor": "#2a3f5f"
            },
            "type": "carpet"
           }
          ],
          "choropleth": [
           {
            "colorbar": {
             "outlinewidth": 0,
             "ticks": ""
            },
            "type": "choropleth"
           }
          ],
          "contour": [
           {
            "colorbar": {
             "outlinewidth": 0,
             "ticks": ""
            },
            "colorscale": [
             [
              0,
              "#0d0887"
             ],
             [
              0.1111111111111111,
              "#46039f"
             ],
             [
              0.2222222222222222,
              "#7201a8"
             ],
             [
              0.3333333333333333,
              "#9c179e"
             ],
             [
              0.4444444444444444,
              "#bd3786"
             ],
             [
              0.5555555555555556,
              "#d8576b"
             ],
             [
              0.6666666666666666,
              "#ed7953"
             ],
             [
              0.7777777777777778,
              "#fb9f3a"
             ],
             [
              0.8888888888888888,
              "#fdca26"
             ],
             [
              1,
              "#f0f921"
             ]
            ],
            "type": "contour"
           }
          ],
          "contourcarpet": [
           {
            "colorbar": {
             "outlinewidth": 0,
             "ticks": ""
            },
            "type": "contourcarpet"
           }
          ],
          "heatmap": [
           {
            "colorbar": {
             "outlinewidth": 0,
             "ticks": ""
            },
            "colorscale": [
             [
              0,
              "#0d0887"
             ],
             [
              0.1111111111111111,
              "#46039f"
             ],
             [
              0.2222222222222222,
              "#7201a8"
             ],
             [
              0.3333333333333333,
              "#9c179e"
             ],
             [
              0.4444444444444444,
              "#bd3786"
             ],
             [
              0.5555555555555556,
              "#d8576b"
             ],
             [
              0.6666666666666666,
              "#ed7953"
             ],
             [
              0.7777777777777778,
              "#fb9f3a"
             ],
             [
              0.8888888888888888,
              "#fdca26"
             ],
             [
              1,
              "#f0f921"
             ]
            ],
            "type": "heatmap"
           }
          ],
          "heatmapgl": [
           {
            "colorbar": {
             "outlinewidth": 0,
             "ticks": ""
            },
            "colorscale": [
             [
              0,
              "#0d0887"
             ],
             [
              0.1111111111111111,
              "#46039f"
             ],
             [
              0.2222222222222222,
              "#7201a8"
             ],
             [
              0.3333333333333333,
              "#9c179e"
             ],
             [
              0.4444444444444444,
              "#bd3786"
             ],
             [
              0.5555555555555556,
              "#d8576b"
             ],
             [
              0.6666666666666666,
              "#ed7953"
             ],
             [
              0.7777777777777778,
              "#fb9f3a"
             ],
             [
              0.8888888888888888,
              "#fdca26"
             ],
             [
              1,
              "#f0f921"
             ]
            ],
            "type": "heatmapgl"
           }
          ],
          "histogram": [
           {
            "marker": {
             "pattern": {
              "fillmode": "overlay",
              "size": 10,
              "solidity": 0.2
             }
            },
            "type": "histogram"
           }
          ],
          "histogram2d": [
           {
            "colorbar": {
             "outlinewidth": 0,
             "ticks": ""
            },
            "colorscale": [
             [
              0,
              "#0d0887"
             ],
             [
              0.1111111111111111,
              "#46039f"
             ],
             [
              0.2222222222222222,
              "#7201a8"
             ],
             [
              0.3333333333333333,
              "#9c179e"
             ],
             [
              0.4444444444444444,
              "#bd3786"
             ],
             [
              0.5555555555555556,
              "#d8576b"
             ],
             [
              0.6666666666666666,
              "#ed7953"
             ],
             [
              0.7777777777777778,
              "#fb9f3a"
             ],
             [
              0.8888888888888888,
              "#fdca26"
             ],
             [
              1,
              "#f0f921"
             ]
            ],
            "type": "histogram2d"
           }
          ],
          "histogram2dcontour": [
           {
            "colorbar": {
             "outlinewidth": 0,
             "ticks": ""
            },
            "colorscale": [
             [
              0,
              "#0d0887"
             ],
             [
              0.1111111111111111,
              "#46039f"
             ],
             [
              0.2222222222222222,
              "#7201a8"
             ],
             [
              0.3333333333333333,
              "#9c179e"
             ],
             [
              0.4444444444444444,
              "#bd3786"
             ],
             [
              0.5555555555555556,
              "#d8576b"
             ],
             [
              0.6666666666666666,
              "#ed7953"
             ],
             [
              0.7777777777777778,
              "#fb9f3a"
             ],
             [
              0.8888888888888888,
              "#fdca26"
             ],
             [
              1,
              "#f0f921"
             ]
            ],
            "type": "histogram2dcontour"
           }
          ],
          "mesh3d": [
           {
            "colorbar": {
             "outlinewidth": 0,
             "ticks": ""
            },
            "type": "mesh3d"
           }
          ],
          "parcoords": [
           {
            "line": {
             "colorbar": {
              "outlinewidth": 0,
              "ticks": ""
             }
            },
            "type": "parcoords"
           }
          ],
          "pie": [
           {
            "automargin": true,
            "type": "pie"
           }
          ],
          "scatter": [
           {
            "fillpattern": {
             "fillmode": "overlay",
             "size": 10,
             "solidity": 0.2
            },
            "type": "scatter"
           }
          ],
          "scatter3d": [
           {
            "line": {
             "colorbar": {
              "outlinewidth": 0,
              "ticks": ""
             }
            },
            "marker": {
             "colorbar": {
              "outlinewidth": 0,
              "ticks": ""
             }
            },
            "type": "scatter3d"
           }
          ],
          "scattercarpet": [
           {
            "marker": {
             "colorbar": {
              "outlinewidth": 0,
              "ticks": ""
             }
            },
            "type": "scattercarpet"
           }
          ],
          "scattergeo": [
           {
            "marker": {
             "colorbar": {
              "outlinewidth": 0,
              "ticks": ""
             }
            },
            "type": "scattergeo"
           }
          ],
          "scattergl": [
           {
            "marker": {
             "colorbar": {
              "outlinewidth": 0,
              "ticks": ""
             }
            },
            "type": "scattergl"
           }
          ],
          "scattermapbox": [
           {
            "marker": {
             "colorbar": {
              "outlinewidth": 0,
              "ticks": ""
             }
            },
            "type": "scattermapbox"
           }
          ],
          "scatterpolar": [
           {
            "marker": {
             "colorbar": {
              "outlinewidth": 0,
              "ticks": ""
             }
            },
            "type": "scatterpolar"
           }
          ],
          "scatterpolargl": [
           {
            "marker": {
             "colorbar": {
              "outlinewidth": 0,
              "ticks": ""
             }
            },
            "type": "scatterpolargl"
           }
          ],
          "scatterternary": [
           {
            "marker": {
             "colorbar": {
              "outlinewidth": 0,
              "ticks": ""
             }
            },
            "type": "scatterternary"
           }
          ],
          "surface": [
           {
            "colorbar": {
             "outlinewidth": 0,
             "ticks": ""
            },
            "colorscale": [
             [
              0,
              "#0d0887"
             ],
             [
              0.1111111111111111,
              "#46039f"
             ],
             [
              0.2222222222222222,
              "#7201a8"
             ],
             [
              0.3333333333333333,
              "#9c179e"
             ],
             [
              0.4444444444444444,
              "#bd3786"
             ],
             [
              0.5555555555555556,
              "#d8576b"
             ],
             [
              0.6666666666666666,
              "#ed7953"
             ],
             [
              0.7777777777777778,
              "#fb9f3a"
             ],
             [
              0.8888888888888888,
              "#fdca26"
             ],
             [
              1,
              "#f0f921"
             ]
            ],
            "type": "surface"
           }
          ],
          "table": [
           {
            "cells": {
             "fill": {
              "color": "#EBF0F8"
             },
             "line": {
              "color": "white"
             }
            },
            "header": {
             "fill": {
              "color": "#C8D4E3"
             },
             "line": {
              "color": "white"
             }
            },
            "type": "table"
           }
          ]
         },
         "layout": {
          "annotationdefaults": {
           "arrowcolor": "#2a3f5f",
           "arrowhead": 0,
           "arrowwidth": 1
          },
          "autotypenumbers": "strict",
          "coloraxis": {
           "colorbar": {
            "outlinewidth": 0,
            "ticks": ""
           }
          },
          "colorscale": {
           "diverging": [
            [
             0,
             "#8e0152"
            ],
            [
             0.1,
             "#c51b7d"
            ],
            [
             0.2,
             "#de77ae"
            ],
            [
             0.3,
             "#f1b6da"
            ],
            [
             0.4,
             "#fde0ef"
            ],
            [
             0.5,
             "#f7f7f7"
            ],
            [
             0.6,
             "#e6f5d0"
            ],
            [
             0.7,
             "#b8e186"
            ],
            [
             0.8,
             "#7fbc41"
            ],
            [
             0.9,
             "#4d9221"
            ],
            [
             1,
             "#276419"
            ]
           ],
           "sequential": [
            [
             0,
             "#0d0887"
            ],
            [
             0.1111111111111111,
             "#46039f"
            ],
            [
             0.2222222222222222,
             "#7201a8"
            ],
            [
             0.3333333333333333,
             "#9c179e"
            ],
            [
             0.4444444444444444,
             "#bd3786"
            ],
            [
             0.5555555555555556,
             "#d8576b"
            ],
            [
             0.6666666666666666,
             "#ed7953"
            ],
            [
             0.7777777777777778,
             "#fb9f3a"
            ],
            [
             0.8888888888888888,
             "#fdca26"
            ],
            [
             1,
             "#f0f921"
            ]
           ],
           "sequentialminus": [
            [
             0,
             "#0d0887"
            ],
            [
             0.1111111111111111,
             "#46039f"
            ],
            [
             0.2222222222222222,
             "#7201a8"
            ],
            [
             0.3333333333333333,
             "#9c179e"
            ],
            [
             0.4444444444444444,
             "#bd3786"
            ],
            [
             0.5555555555555556,
             "#d8576b"
            ],
            [
             0.6666666666666666,
             "#ed7953"
            ],
            [
             0.7777777777777778,
             "#fb9f3a"
            ],
            [
             0.8888888888888888,
             "#fdca26"
            ],
            [
             1,
             "#f0f921"
            ]
           ]
          },
          "colorway": [
           "#636efa",
           "#EF553B",
           "#00cc96",
           "#ab63fa",
           "#FFA15A",
           "#19d3f3",
           "#FF6692",
           "#B6E880",
           "#FF97FF",
           "#FECB52"
          ],
          "font": {
           "color": "#2a3f5f"
          },
          "geo": {
           "bgcolor": "white",
           "lakecolor": "white",
           "landcolor": "#E5ECF6",
           "showlakes": true,
           "showland": true,
           "subunitcolor": "white"
          },
          "hoverlabel": {
           "align": "left"
          },
          "hovermode": "closest",
          "mapbox": {
           "style": "light"
          },
          "paper_bgcolor": "white",
          "plot_bgcolor": "#E5ECF6",
          "polar": {
           "angularaxis": {
            "gridcolor": "white",
            "linecolor": "white",
            "ticks": ""
           },
           "bgcolor": "#E5ECF6",
           "radialaxis": {
            "gridcolor": "white",
            "linecolor": "white",
            "ticks": ""
           }
          },
          "scene": {
           "xaxis": {
            "backgroundcolor": "#E5ECF6",
            "gridcolor": "white",
            "gridwidth": 2,
            "linecolor": "white",
            "showbackground": true,
            "ticks": "",
            "zerolinecolor": "white"
           },
           "yaxis": {
            "backgroundcolor": "#E5ECF6",
            "gridcolor": "white",
            "gridwidth": 2,
            "linecolor": "white",
            "showbackground": true,
            "ticks": "",
            "zerolinecolor": "white"
           },
           "zaxis": {
            "backgroundcolor": "#E5ECF6",
            "gridcolor": "white",
            "gridwidth": 2,
            "linecolor": "white",
            "showbackground": true,
            "ticks": "",
            "zerolinecolor": "white"
           }
          },
          "shapedefaults": {
           "line": {
            "color": "#2a3f5f"
           }
          },
          "ternary": {
           "aaxis": {
            "gridcolor": "white",
            "linecolor": "white",
            "ticks": ""
           },
           "baxis": {
            "gridcolor": "white",
            "linecolor": "white",
            "ticks": ""
           },
           "bgcolor": "#E5ECF6",
           "caxis": {
            "gridcolor": "white",
            "linecolor": "white",
            "ticks": ""
           }
          },
          "title": {
           "x": 0.05
          },
          "xaxis": {
           "automargin": true,
           "gridcolor": "white",
           "linecolor": "white",
           "ticks": "",
           "title": {
            "standoff": 15
           },
           "zerolinecolor": "white",
           "zerolinewidth": 2
          },
          "yaxis": {
           "automargin": true,
           "gridcolor": "white",
           "linecolor": "white",
           "ticks": "",
           "title": {
            "standoff": 15
           },
           "zerolinecolor": "white",
           "zerolinewidth": 2
          }
         }
        },
        "title": {
         "text": "Basic Sankey Diagram"
        }
       }
      }
     },
     "metadata": {},
     "output_type": "display_data"
    }
   ],
   "source": [
    "#display data in saneky diagram\n",
    "import plotly.graph_objects as go\n",
    "\n",
    "fig = go.Figure(data=[go.Sankey(\n",
    "    node = dict(\n",
    "      pad = 15,\n",
    "      thickness = 20,\n",
    "      line = dict(color = \"black\", width = 0.5),\n",
    "      label = subject['icv'],\n",
    "      color = \"blue\"\n",
    "    ),\n",
    "    link = dict(\n",
    "      source = subject['icv'], # indices correspond to labels, eg A1, A2, A1, B1, ...\n",
    "      target = subject['level1'],\n",
    "      value = subject['comp']\n",
    "  ))])\n",
    "\n",
    "fig.update_layout(title_text=\"Basic Sankey Diagram\", font_size=10)\n",
    "fig.show()"
   ]
  },
  {
   "cell_type": "markdown",
   "metadata": {},
   "source": [
    "Here is the link to my website: \n",
    "\n",
    "(https://htmlpreview.github.io/?https://github.com/alessandroleggio/test_repo/blob/main/hw5_p4.html"
   ]
  },
  {
   "cell_type": "code",
   "execution_count": 37,
   "metadata": {},
   "outputs": [
    {
     "data": {
      "text/plain": [
       "0      Telencephalon_L\n",
       "1      Telencephalon_R\n",
       "2      Telencephalon_L\n",
       "3      Telencephalon_R\n",
       "4      Telencephalon_L\n",
       "            ...       \n",
       "275                CSF\n",
       "276                CSF\n",
       "277                CSF\n",
       "278    Telencephalon_L\n",
       "279    Telencephalon_R\n",
       "Name: level1, Length: 280, dtype: object"
      ]
     },
     "execution_count": 37,
     "metadata": {},
     "output_type": "execute_result"
    }
   ],
   "source": [
    "subject['level1']"
   ]
  }
 ],
 "metadata": {
  "kernelspec": {
   "display_name": "myenv",
   "language": "python",
   "name": "python3"
  },
  "language_info": {
   "codemirror_mode": {
    "name": "ipython",
    "version": 3
   },
   "file_extension": ".py",
   "mimetype": "text/x-python",
   "name": "python",
   "nbconvert_exporter": "python",
   "pygments_lexer": "ipython3",
   "version": "3.8.18"
  }
 },
 "nbformat": 4,
 "nbformat_minor": 2
}
